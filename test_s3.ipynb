{
 "cells": [
  {
   "cell_type": "markdown",
   "metadata": {},
   "source": [
    "# Тестирование работы с S3 (minio) boto2"
   ]
  },
  {
   "cell_type": "code",
   "execution_count": 1,
   "metadata": {},
   "outputs": [],
   "source": [
    "import boto3\n",
    "\n",
    "session = boto3.session.Session()\n",
    "s3 = session.client(\n",
    "    service_name='s3',\n",
    "    aws_access_key_id=\"qwerTY12345\",\n",
    "    aws_secret_access_key=\"poIuytRewq0987654321qwerty\",\n",
    "    endpoint_url='http://localhost:9000'\n",
    ")"
   ]
  },
  {
   "cell_type": "code",
   "execution_count": 16,
   "metadata": {},
   "outputs": [],
   "source": [
    "# Загрузить объекты в бакет\n",
    "bucket_name = \"test-bucket\"\n",
    "file = \"titanic.csv\"\n",
    "save_name = \"titanic.csv\"\n",
    "\n",
    "## Из файла\n",
    "s3.upload_file(file, bucket_name, save_name)"
   ]
  },
  {
   "cell_type": "code",
   "execution_count": 8,
   "metadata": {},
   "outputs": [
    {
     "name": "stdout",
     "output_type": "stream",
     "text": [
      "test.jpg\n",
      "titanic.csv\n"
     ]
    }
   ],
   "source": [
    "# Получить список объектов в бакете\n",
    "try:\n",
    "    for key in s3.list_objects(Bucket=bucket_name)['Contents']:\n",
    "        print(key['Key'])\n",
    "except:\n",
    "    print('No items')"
   ]
  },
  {
   "cell_type": "code",
   "execution_count": 9,
   "metadata": {},
   "outputs": [],
   "source": [
    "# Удалить несколько объектов\n",
    "forDeletion = [{'Key':save_name}]\n",
    "response = s3.delete_objects(Bucket=bucket_name, Delete={'Objects': forDeletion})"
   ]
  },
  {
   "cell_type": "markdown",
   "metadata": {},
   "source": [
    "Загрузим фотку из инета и положим ее в s3:"
   ]
  },
  {
   "cell_type": "code",
   "execution_count": 10,
   "metadata": {},
   "outputs": [
    {
     "name": "stdout",
     "output_type": "stream",
     "text": [
      "Фотография успешно загружена и сохранена как test.jpg\n"
     ]
    }
   ],
   "source": [
    "import requests\n",
    "\n",
    "# URL фотографии\n",
    "url = 'https://steamuserimages-a.akamaihd.net/ugc/863987595649031357/F975541D9FE478E84605C72D21DAC1AF94254F52/?imw=512&amp;imh=522&amp;ima=fit&amp;impolicy=Letterbox&amp;imcolor=%23000000&amp;letterbox=true'\n",
    "\n",
    "# Имя файла, под которым сохраним фотографию\n",
    "filename = 'test.jpg'\n",
    "\n",
    "# Загрузка фотографии\n",
    "response = requests.get(url)\n",
    "\n",
    "# Проверка, что загрузка прошла успешно\n",
    "if response.status_code == 200:\n",
    "    # Сохранение фотографии в файл\n",
    "    with open(filename, 'wb') as file:\n",
    "        file.write(response.content)\n",
    "    print(f\"Фотография успешно загружена и сохранена как {filename}\")\n",
    "else:\n",
    "    print(f\"Ошибка при загрузке фотографии: {response.status_code}\")"
   ]
  },
  {
   "cell_type": "code",
   "execution_count": 11,
   "metadata": {},
   "outputs": [],
   "source": [
    "# Загрузить объекты в бакет\n",
    "bucket_name = \"test-bucket\"\n",
    "file = \"test.jpg\"\n",
    "save_name = \"test.jpg\"\n",
    "\n",
    "## Из файла\n",
    "s3.upload_file(file, bucket_name, save_name)"
   ]
  },
  {
   "cell_type": "code",
   "execution_count": null,
   "metadata": {},
   "outputs": [
    {
     "data": {
      "text/plain": [
       "{'ResponseMetadata': {'RequestId': '18042B75C1B1985A',\n",
       "  'HostId': 'dd9025bab4ad464b049177c95eb6ebf374d3b3fd1af9251148b658df7ac2e3e8',\n",
       "  'HTTPStatusCode': 200,\n",
       "  'HTTPHeaders': {'accept-ranges': 'bytes',\n",
       "   'content-length': '39387',\n",
       "   'content-type': 'binary/octet-stream',\n",
       "   'etag': '\"ed3f2a0e6e0c4da07ae03de64d09dae4\"',\n",
       "   'last-modified': 'Sat, 02 Nov 2024 13:58:56 GMT',\n",
       "   'server': 'MinIO',\n",
       "   'strict-transport-security': 'max-age=31536000; includeSubDomains',\n",
       "   'vary': 'Origin, Accept-Encoding',\n",
       "   'x-amz-id-2': 'dd9025bab4ad464b049177c95eb6ebf374d3b3fd1af9251148b658df7ac2e3e8',\n",
       "   'x-amz-request-id': '18042B75C1B1985A',\n",
       "   'x-content-type-options': 'nosniff',\n",
       "   'x-xss-protection': '1; mode=block',\n",
       "   'date': 'Sat, 02 Nov 2024 13:59:01 GMT'},\n",
       "  'RetryAttempts': 0},\n",
       " 'AcceptRanges': 'bytes',\n",
       " 'LastModified': datetime.datetime(2024, 11, 2, 13, 58, 56, tzinfo=tzutc()),\n",
       " 'ContentLength': 39387,\n",
       " 'ETag': '\"ed3f2a0e6e0c4da07ae03de64d09dae4\"',\n",
       " 'ContentType': 'binary/octet-stream',\n",
       " 'Metadata': {},\n",
       " 'Body': <botocore.response.StreamingBody at 0x1348d0d4640>}"
      ]
     },
     "execution_count": 12,
     "metadata": {},
     "output_type": "execute_result"
    }
   ],
   "source": [
    "# Получить объект\n",
    "get_object_response = s3.get_object(Bucket=bucket_name, Key=file)\n",
    "get_object_response"
   ]
  },
  {
   "cell_type": "code",
   "execution_count": 15,
   "metadata": {},
   "outputs": [],
   "source": [
    "import cv2\n",
    "import numpy as np\n",
    "\n",
    "# Получение объекта из S3\n",
    "get_object_response = s3.get_object(Bucket=bucket_name, Key=file)\n",
    "\n",
    "# Чтение данных изображения из ответа\n",
    "image_data = get_object_response['Body'].read()\n",
    "\n",
    "# Преобразование данных изображения в формат, который может быть прочитан OpenCV\n",
    "image = cv2.imdecode(np.frombuffer(image_data, np.uint8), cv2.IMREAD_COLOR)\n",
    "\n",
    "# Отображение изображения\n",
    "cv2.imshow('Image from S3', cv2.resize(image, (350, 350)))\n",
    "cv2.waitKey(0)\n",
    "cv2.destroyAllWindows()"
   ]
  }
 ],
 "metadata": {
  "kernelspec": {
   "display_name": "patched_yolo_infer",
   "language": "python",
   "name": "python3"
  },
  "language_info": {
   "codemirror_mode": {
    "name": "ipython",
    "version": 3
   },
   "file_extension": ".py",
   "mimetype": "text/x-python",
   "name": "python",
   "nbconvert_exporter": "python",
   "pygments_lexer": "ipython3",
   "version": "3.11.8"
  }
 },
 "nbformat": 4,
 "nbformat_minor": 2
}
