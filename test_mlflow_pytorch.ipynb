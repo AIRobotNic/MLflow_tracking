{
 "cells": [
  {
   "attachments": {},
   "cell_type": "markdown",
   "metadata": {},
   "source": [
    "## MLFLOW для экспериментов с PyTorch"
   ]
  },
  {
   "attachments": {},
   "cell_type": "markdown",
   "metadata": {},
   "source": [
    "__Как запустить сервер:__\n",
    "\n",
    "Команды терминала:\n",
    "\n",
    "Включим нужное окружение conda:\n",
    "\n",
    ">conda activate \"название окружения conda\"\n",
    "\n",
    "Запустим сервер:\n",
    "\n",
    ">mlflow server --backend-store-uri \"папка на компьютере, где будут храниться результаты\"\n",
    "\n",
    "В конце можно добавить нужный порт (автоматом 5000) --host localhost --port 5000\n",
    "\n",
    "пример:\n",
    ">mlflow server --backend-store-uri \"file:///D:/ML_flow_server/data_local\" --host localhost --port 5000\n",
    "\n",
    "\n",
    "По этой ссылке будет доступен MLflow:\n",
    "\n",
    "http://localhost:5000\n",
    "\n"
   ]
  },
  {
   "cell_type": "code",
   "execution_count": 1,
   "metadata": {},
   "outputs": [],
   "source": [
    "import torch\n",
    "import mlflow\n",
    "import numpy as np # библиотека работы с матрицами на цпу\n",
    "import random\n",
    "import torch.nn as nn # модуль библиотеки для создрания слоев \n",
    "import matplotlib.pyplot as plt # библиотека для отображения графиков и изображений\n",
    "%matplotlib inline"
   ]
  },
  {
   "cell_type": "code",
   "execution_count": 2,
   "metadata": {},
   "outputs": [],
   "source": [
    "# Установка Seed для воспроизводимости\n",
    "seed = 42\n",
    "torch.manual_seed(seed)\n",
    "torch.cuda.manual_seed(seed)\n",
    "torch.cuda.manual_seed_all(seed)\n",
    "np.random.seed(seed)\n",
    "random.seed(seed)\n",
    "torch.backends.cudnn.benchmark = False\n",
    "torch.backends.cudnn.deterministic = True"
   ]
  },
  {
   "cell_type": "code",
   "execution_count": 3,
   "metadata": {},
   "outputs": [],
   "source": [
    "import torchvision.transforms as transforms\n",
    "import torchvision.utils\n",
    "import torch.nn as nn\n",
    "\n",
    "\n",
    "train_mnist = torchvision.datasets.MNIST('data_mnist/train', train=True, \n",
    "                                                transform=transforms.Compose([transforms.ToTensor()]),  \n",
    "                                                download=True)\n",
    "test_mnist = torchvision.datasets.MNIST('data_mnist/test', train=False, \n",
    "                                               transform=transforms.Compose([transforms.ToTensor()]), \n",
    "                                               download=True)\n",
    "\n",
    "batch_size = 100\n",
    "\n",
    "train_loader = torch.utils.data.DataLoader(\n",
    "                 dataset=train_mnist,\n",
    "                 batch_size=batch_size,\n",
    "                 shuffle=True)\n",
    "test_loader = torch.utils.data.DataLoader(\n",
    "                dataset=test_mnist,\n",
    "                batch_size=batch_size,\n",
    "                shuffle=False)"
   ]
  },
  {
   "attachments": {},
   "cell_type": "markdown",
   "metadata": {},
   "source": [
    "__Создадаим fc сеть:__"
   ]
  },
  {
   "cell_type": "code",
   "execution_count": 28,
   "metadata": {},
   "outputs": [],
   "source": [
    "class FCNetwork(nn.Module):\n",
    "    def __init__(self, prob, n_inside):\n",
    "        super(FCNetwork, self).__init__() \n",
    "        self.fc1 = nn.Linear(784, n_inside)\n",
    "        self.fc2 = nn.Linear(n_inside, 10)\n",
    "        self.fc1_act = nn.ReLU()\n",
    "        self.dropout = nn.Dropout(p = prob)\n",
    "\n",
    "    def forward(self,x):\n",
    "        y = self.fc1(self.dropout(x))\n",
    "        y = self.fc1_act(y)\n",
    "        y = self.fc2(y)\n",
    "        return y"
   ]
  },
  {
   "cell_type": "code",
   "execution_count": 29,
   "metadata": {},
   "outputs": [],
   "source": [
    "device = torch.device('cuda' if torch.cuda.is_available() else 'cpu')\n",
    "\n",
    "model = FCNetwork(prob=0.5, n_inside=100)\n",
    "model.to(device)\n",
    "\n",
    "loss_func = nn.CrossEntropyLoss()\n",
    "optimizer = torch.optim.Adam(model.parameters(), lr=1e-4)\n",
    "\n",
    "def accuracy(output, labels):\n",
    "  predictions = torch.argmax(output, dim=1)\n",
    "  correct = (predictions == labels).sum().cpu().numpy()\n",
    "  return correct / len(labels)"
   ]
  },
  {
   "attachments": {},
   "cell_type": "markdown",
   "metadata": {},
   "source": [
    "Обучим сеть как обычно это делаем без трекинга в mlflow. Загружать будем локально на компьютер лучшую модель с мах test accuracy"
   ]
  },
  {
   "cell_type": "code",
   "execution_count": 30,
   "metadata": {},
   "outputs": [
    {
     "name": "stdout",
     "output_type": "stream",
     "text": [
      "Iteration 0, train accuracy 0.08, loss 2.3224\n",
      "Iteration 200, train accuracy 0.77, loss 1.3885\n",
      "Iteration 400, train accuracy 0.75, loss 0.9633\n",
      "Test accuracy - 0.8654999999999999\n",
      "Saving model because its better\n",
      "Iteration 600, train accuracy 0.87, loss 0.6897\n",
      "Iteration 800, train accuracy 0.88, loss 0.5044\n",
      "Iteration 1000, train accuracy 0.87, loss 0.5354\n",
      "Test accuracy - 0.8941999999999999\n",
      "Saving model because its better\n",
      "Iteration 1200, train accuracy 0.84, loss 0.5770\n",
      "Iteration 1400, train accuracy 0.86, loss 0.4731\n",
      "Iteration 1600, train accuracy 0.89, loss 0.3857\n",
      "Test accuracy - 0.9075\n",
      "Saving model because its better\n",
      "Iteration 1800, train accuracy 0.89, loss 0.3760\n",
      "Iteration 2000, train accuracy 0.83, loss 0.5271\n",
      "Iteration 2200, train accuracy 0.84, loss 0.5108\n",
      "Test accuracy - 0.9122000000000001\n",
      "Saving model because its better\n",
      "Iteration 2400, train accuracy 0.84, loss 0.4455\n",
      "Iteration 2600, train accuracy 0.87, loss 0.4448\n",
      "Iteration 2800, train accuracy 0.87, loss 0.3888\n",
      "Test accuracy - 0.9182000000000001\n",
      "Saving model because its better\n"
     ]
    }
   ],
   "source": [
    "maxacc = 0\n",
    "for epoch in range(5):\n",
    "    model.train()\n",
    "    for itr, data in enumerate(train_loader):\n",
    "\n",
    "        imgs = data[0].to(device) # [100,1,28,28] -> [B,H,W]\n",
    "        labels = data[1].to(device)\n",
    "\n",
    "        imgs = imgs.view(-1,28*28) # [100,28,28] -> [100,784] \n",
    "        y_pred = model(imgs) # [100,10]\n",
    "        loss = loss_func(y_pred,labels)\n",
    "        \n",
    "        if itr % 200 == 0:\n",
    "            print('Iteration {}, train accuracy {:.2f}, loss {:.4f}'.format(itr+epoch*len(train_loader),\n",
    "                                                                            accuracy(y_pred,labels),loss))\n",
    "        \n",
    "        optimizer.zero_grad()\n",
    "        loss.backward()   \n",
    "        optimizer.step()\n",
    "\n",
    "    model.eval()\n",
    "    \n",
    "    accuracies = []\n",
    "    for itr,data in enumerate(test_loader):\n",
    "        imgs = data[0].to(device)\n",
    "        labels = data[1].to(device)\n",
    "        imgs = imgs.view(-1,28*28)   \n",
    "        y_pred = model(imgs)\n",
    "        accuracies.append(accuracy(y_pred,labels))\n",
    "    print(f'Test accuracy - {np.mean(np.array(accuracies))}')\n",
    "\n",
    "    if np.mean(np.array(accuracies)) > maxacc:\n",
    "        print('Saving model because its better')\n",
    "        maxacc = np.mean(np.array(accuracies)) \n",
    "        torch.save(model,f'mymodel_fc.pth')\n"
   ]
  },
  {
   "attachments": {},
   "cell_type": "markdown",
   "metadata": {},
   "source": [
    "---"
   ]
  },
  {
   "attachments": {},
   "cell_type": "markdown",
   "metadata": {},
   "source": [
    "### Теперь воспользуемся MLFlow для трекинга экспериментов:"
   ]
  },
  {
   "cell_type": "code",
   "execution_count": 31,
   "metadata": {},
   "outputs": [
    {
     "data": {
      "text/plain": [
       "<Experiment: artifact_location='mlflow-artifacts:/464363596271834910', creation_time=1685117437457, experiment_id='464363596271834910', last_update_time=1685117437457, lifecycle_stage='active', name='PyTorch_test', tags={}>"
      ]
     },
     "execution_count": 31,
     "metadata": {},
     "output_type": "execute_result"
    }
   ],
   "source": [
    "# Инициализация MLflow\n",
    "#mlflow.set_tracking_uri(\"file:///D:/ML_flow_server/data_local\")\n",
    "mlflow.set_tracking_uri(\"http://localhost:5000\")\n",
    "mlflow.set_experiment(\"PyTorch_test\")"
   ]
  },
  {
   "cell_type": "code",
   "execution_count": 32,
   "metadata": {},
   "outputs": [],
   "source": [
    "device = torch.device('cuda' if torch.cuda.is_available() else 'cpu')\n",
    "prob = 0.2\n",
    "n_inside = 250\n",
    "lr = 1e-4\n",
    "epochs = 7"
   ]
  },
  {
   "cell_type": "code",
   "execution_count": 33,
   "metadata": {},
   "outputs": [
    {
     "name": "stdout",
     "output_type": "stream",
     "text": [
      "Началось обучение 1 эпохи\n",
      "Началось обучение 2 эпохи\n",
      "Началось обучение 3 эпохи\n",
      "Началось обучение 4 эпохи\n",
      "Началось обучение 5 эпохи\n",
      "Началось обучение 6 эпохи\n",
      "Началось обучение 7 эпохи\n",
      "max accuracy =  0.9427\n"
     ]
    }
   ],
   "source": [
    "with mlflow.start_run(run_name='FCNetwork_1') as run:\n",
    "\n",
    "    model = FCNetwork(prob=prob, n_inside=n_inside)\n",
    "    model.to(device)\n",
    "\n",
    "    loss_func = nn.CrossEntropyLoss()\n",
    "    optimizer = torch.optim.Adam(model.parameters(), lr=lr)\n",
    "\n",
    "    mlflow.log_param(\"prob dropout\", prob)\n",
    "    mlflow.log_param(\"neurons 2 layer\", n_inside)\n",
    "    mlflow.log_param(\"lr\", lr)\n",
    "    mlflow.log_param(\"optimizer\", 'Adam')\n",
    "    mlflow.log_param(\"epochs\", epochs)\n",
    "\n",
    "    maxacc = 0\n",
    "    itr_record = 0\n",
    "    for epoch in range(epochs):\n",
    "        model.train()\n",
    "        print(f'Началось обучение {epoch+1} эпохи')\n",
    "        for itr, data in enumerate(train_loader):\n",
    "\n",
    "            imgs = data[0].to(device) # [100,1,28,28] -> [B,H,W]\n",
    "            labels = data[1].to(device)\n",
    "\n",
    "            imgs = imgs.view(-1,28*28) # [100,28,28] -> [100,784] \n",
    "            y_pred = model(imgs) # [100,10]\n",
    "            loss = loss_func(y_pred,labels)\n",
    "            \n",
    "            if itr % 200 == 0:\n",
    "                mlflow.log_metric(\"accuracy_batch_train\", accuracy(y_pred,labels), step=itr_record) \n",
    "                mlflow.log_metric(\"loss_batch_train\", loss, step=itr_record) \n",
    "                itr_record += 1\n",
    "                \n",
    "            optimizer.zero_grad()\n",
    "            loss.backward()   \n",
    "            optimizer.step()\n",
    "\n",
    "        model.eval()\n",
    "        accuracies = []\n",
    "        for itr,data in enumerate(test_loader):\n",
    "            imgs = data[0].to(device)\n",
    "            labels = data[1].to(device)\n",
    "            imgs = imgs.view(-1,28*28)   \n",
    "            y_pred = model(imgs)\n",
    "            accuracies.append(accuracy(y_pred,labels))\n",
    "        mlflow.log_metric(\"test_acc\", np.mean(np.array(accuracies)), step=epoch) \n",
    "\n",
    "        if np.mean(np.array(accuracies)) > maxacc:\n",
    "            # Saving model because its better\n",
    "            mlflow.pytorch.log_model(model, \"model\")\n",
    "            maxacc = np.mean(np.array(accuracies)) \n",
    "    print('max accuracy = ', maxacc)\n",
    "mlflow.end_run()"
   ]
  },
  {
   "attachments": {},
   "cell_type": "markdown",
   "metadata": {},
   "source": [
    "___"
   ]
  },
  {
   "attachments": {},
   "cell_type": "markdown",
   "metadata": {},
   "source": [
    "### Использование __lightning__ для автологирования модели"
   ]
  },
  {
   "cell_type": "code",
   "execution_count": 34,
   "metadata": {},
   "outputs": [
    {
     "name": "stderr",
     "output_type": "stream",
     "text": [
      "GPU available: False, used: False\n",
      "TPU available: False, using: 0 TPU cores\n",
      "IPU available: False, using: 0 IPUs\n",
      "HPU available: False, using: 0 HPUs\n",
      "2023/05/26 21:22:48 WARNING mlflow.utils.autologging_utils: MLflow autologging encountered a warning: \"d:\\Program files 2.0\\Anaconda\\lib\\site-packages\\mlflow\\pytorch\\_lightning_autolog.py:352: UserWarning: Autologging is known to be compatible with pytorch-lightning versions between 1.0.5 and 2.0.1.post0 and may not succeed with packages outside this range.\"\n",
      "Missing logger folder: d:\\YandexDisk\\BMSTU\\Программирование\\Полезный контент для Data Science\\MLOps\\пример проекта с mlflow\\lightning_logs\n",
      "\n",
      "  | Name    | Type    | Params\n",
      "------------------------------------\n",
      "0 | fc1     | Linear  | 39.2 K\n",
      "1 | fc2     | Linear  | 510   \n",
      "2 | fc1_act | ReLU    | 0     \n",
      "3 | dropout | Dropout | 0     \n",
      "------------------------------------\n",
      "39.8 K    Trainable params\n",
      "0         Non-trainable params\n",
      "39.8 K    Total params\n",
      "0.159     Total estimated model params size (MB)\n",
      "d:\\Program files 2.0\\Anaconda\\lib\\site-packages\\lightning\\pytorch\\trainer\\connectors\\data_connector.py:430: PossibleUserWarning: The dataloader, train_dataloader, does not have many workers which may be a bottleneck. Consider increasing the value of the `num_workers` argument` (try 6 which is the number of cpus on this machine) in the `DataLoader` init to improve performance.\n",
      "  rank_zero_warn(\n"
     ]
    },
    {
     "name": "stdout",
     "output_type": "stream",
     "text": [
      "Epoch 4: 100%|██████████| 600/600 [00:11<00:00, 51.36it/s, v_num=0]"
     ]
    },
    {
     "name": "stderr",
     "output_type": "stream",
     "text": [
      "`Trainer.fit` stopped: `max_epochs=5` reached.\n"
     ]
    },
    {
     "name": "stdout",
     "output_type": "stream",
     "text": [
      "Epoch 4: 100%|██████████| 600/600 [00:11<00:00, 50.89it/s, v_num=0]\n"
     ]
    }
   ],
   "source": [
    "import lightning.pytorch as pl\n",
    "\n",
    "class FCNetwork_lightning(pl.LightningModule):\n",
    "    def __init__(self, prob, n_inside):\n",
    "        super(FCNetwork_lightning, self).__init__() \n",
    "        self.fc1 = nn.Linear(784, n_inside)\n",
    "        self.fc2 = nn.Linear(n_inside, 10)\n",
    "        self.fc1_act = nn.ReLU()\n",
    "        self.dropout = nn.Dropout(p = prob)\n",
    "\n",
    "    def forward(self,x):\n",
    "        y = x.view(-1,28*28)\n",
    "        y = self.fc1(self.dropout(y))\n",
    "        y = self.fc1_act(y)\n",
    "        y = self.fc2(y)\n",
    "        return y\n",
    "\n",
    "    def training_step(self, batch, batch_nb):\n",
    "        x, y = batch\n",
    "        y_hat = self(x)\n",
    "        loss = nn.functional.cross_entropy(y_hat, y)\n",
    "        acc = accuracy(output=y_hat, labels=y)\n",
    "        self.log(\"train_loss\", loss, on_epoch=True)\n",
    "        self.log(\"acc\", acc, on_epoch=True)\n",
    "        return loss\n",
    "    \n",
    "    def accuracy(output, labels):\n",
    "        predictions = torch.argmax(output, dim=1)\n",
    "        correct = (predictions == labels).sum().item()\n",
    "        return correct / len(labels)\n",
    "            \n",
    "    def test_step(self, batch, batch_nb):\n",
    "        x, y = batch\n",
    "        y_hat = self(x)\n",
    "        true = (torch.argmax(y_hat, dim=1)==y).sum().item()\n",
    "        acc = true/len(y)\n",
    "        self.log(\"test_acc\", acc, on_epoch=True)\n",
    "        return acc\n",
    "\n",
    "    def configure_optimizers(self):\n",
    "        return torch.optim.Adam(self.parameters(), lr=0.001)\n",
    "\n",
    "# Инициализация MLflow\n",
    "mlflow.set_tracking_uri(\"http://localhost:5000\")\n",
    "mlflow.set_experiment(\"PyTorch_test\")\n",
    "mlflow.pytorch.autolog()\n",
    "\n",
    "prob = 0\n",
    "n_inside = 50\n",
    "model = FCNetwork_lightning(prob=prob, n_inside=n_inside)\n",
    "trainer = pl.Trainer(max_epochs=5)\n",
    "\n",
    "with mlflow.start_run(run_name='FCNetwork_lightning_2') as run:\n",
    "    trainer.fit(model, train_loader)\n",
    "    #trainer.test(dataloaders=test_loader)\n",
    "    mlflow.log_param(\"prob dropout\", prob)\n",
    "    mlflow.log_param(\"neurons 2 layer\", n_inside)\n",
    "\n",
    "mlflow.end_run()"
   ]
  },
  {
   "attachments": {},
   "cell_type": "markdown",
   "metadata": {},
   "source": [
    "### Запуск модели из mlflow"
   ]
  },
  {
   "cell_type": "code",
   "execution_count": 20,
   "metadata": {},
   "outputs": [
    {
     "name": "stderr",
     "output_type": "stream",
     "text": [
      "2023/05/26 21:16:09 WARNING mlflow.pyfunc: Detected one or more mismatches between the model's dependencies and the current Python environment:\n",
      " - mlflow (current: 2.3.2, required: mlflow==2.3)\n",
      "To fix the mismatches, call `mlflow.pyfunc.get_model_dependencies(model_uri)` to fetch the model's environment and install dependencies using the resulting environment file.\n"
     ]
    },
    {
     "data": {
      "image/png": "[encoded data removed]",
      "text/plain": [
       "<Figure size 640x480 with 1 Axes>"
      ]
     },
     "metadata": {},
     "output_type": "display_data"
    }
   ],
   "source": [
    "import mlflow\n",
    "logged_model = 'runs:/b6acb72cbf3d4d03bc58539b9a518c3f/model'\n",
    "\n",
    "# Load model as a PyFuncModel.\n",
    "loaded_model = mlflow.pyfunc.load_model(logged_model)\n",
    "\n",
    "num = 6\n",
    "y_pred = loaded_model.predict(test_mnist[num][0].numpy())  # Прогон через модель из MLflow\n",
    "# принимает на вход np array\n",
    "\n",
    "y_pred = torch.argmax(torch.tensor(y_pred), dim=1)\n",
    "im = np.transpose(test_mnist[num][0].numpy(), (1, 2, 0))\n",
    "plt.figure()\n",
    "plt.imshow(im)  #w,h,c\n",
    "plt.title(y_pred.numpy()[0])\n",
    "plt.show()"
   ]
  },
  {
   "cell_type": "code",
   "execution_count": 21,
   "metadata": {},
   "outputs": [
    {
     "name": "stdout",
     "output_type": "stream",
     "text": [
      "test accuracy = 0.9541\n"
     ]
    }
   ],
   "source": [
    "count = 0\n",
    "for i in range(len(test_mnist)):\n",
    "    y_pred = loaded_model.predict(test_mnist[i][0].numpy()) \n",
    "    y_pred = torch.argmax(torch.tensor(y_pred), dim=1)\n",
    "    if test_mnist[i][1] == y_pred:\n",
    "        count += 1\n",
    "print('test accuracy =', round(count/len(test_mnist), 4))\n"
   ]
  },
  {
   "attachments": {},
   "cell_type": "markdown",
   "metadata": {},
   "source": [
    "---"
   ]
  },
  {
   "attachments": {},
   "cell_type": "markdown",
   "metadata": {},
   "source": [
    "Обычная работа с моделью на компе в pytorch"
   ]
  },
  {
   "cell_type": "code",
   "execution_count": 13,
   "metadata": {},
   "outputs": [
    {
     "name": "stdout",
     "output_type": "stream",
     "text": [
      "Test accuracy - 0.916\n"
     ]
    }
   ],
   "source": [
    "model = FCNetwork(prob=0.5, n_inside=100)\n",
    "wghts = torch.load('mymodel_fc.pth')\n",
    "model.load_state_dict(wghts.state_dict())\n",
    "\n",
    "#Переводит модель в режим инференса\n",
    "model.eval()\n",
    "device = 'cpu'\n",
    "with torch.no_grad():\n",
    "    accuracy_list = []\n",
    "    for itr,data in enumerate(test_loader):\n",
    "        imgs = data[0].to(device)\n",
    "        labels = data[1].to(device)\n",
    "        imgs = imgs.view(-1,28*28)\n",
    "        y_pred = model.forward(imgs)\n",
    "        accuracy_list.append(accuracy(y_pred,labels))\n",
    "\n",
    "print('Test accuracy - {:.3f}'.format(np.sum(accuracy_list)/len(accuracy_list)))"
   ]
  },
  {
   "attachments": {},
   "cell_type": "markdown",
   "metadata": {},
   "source": [
    "## CONV сеть (классический подъод без mlflow):"
   ]
  },
  {
   "cell_type": "code",
   "execution_count": 7,
   "metadata": {},
   "outputs": [],
   "source": [
    "class ConvNetwork(nn.Module):\n",
    "    def __init__(self, n_inside):\n",
    "        super(ConvNetwork, self).__init__() # 100,1,28,28\n",
    "        self.conv1 = torch.nn.Conv2d(\n",
    "            in_channels=1, out_channels=5, kernel_size=3, padding=1)   #100,5,28,28\n",
    "        self.bn1 = nn.BatchNorm2d(5)\n",
    "        self.act1 = torch.nn.ReLU()\n",
    "        self.pool1 = torch.nn.MaxPool2d(kernel_size=2, stride=2) #100,5,14,14\n",
    "\n",
    "        self.conv2 = torch.nn.Conv2d(\n",
    "            in_channels=5, out_channels=10, kernel_size=3, padding=1)   #100,10,14,14\n",
    "        self.bn2 = nn.BatchNorm2d(10)\n",
    "        self.act2 = torch.nn.ReLU()\n",
    "        self.pool2 = torch.nn.MaxPool2d(kernel_size=2, stride=2) #100,10,7,7\n",
    "\n",
    "        self.conv3 = torch.nn.Conv2d(\n",
    "            in_channels=10, out_channels=15, kernel_size=3, padding=1)   #100,15,7,7\n",
    "        self.bn3 = nn.BatchNorm2d(15)\n",
    "        self.act3 = torch.nn.ReLU()\n",
    "\n",
    "        self.fc1 = nn.Linear(735, n_inside)\n",
    "        self.fc1_act = nn.ReLU()\n",
    "        self.fc2 = nn.Linear(n_inside, 10)\n",
    "\n",
    "\n",
    "    def forward(self,x):\n",
    "        y = self.pool1(self.act1(self.bn1(self.conv1(x))))\n",
    "        y = self.pool2(self.act2(self.bn2(self.conv2(y))))\n",
    "        y = self.act3(self.bn3(self.conv3(y)))\n",
    "        y = y.view(-1, 15*7*7) \n",
    "        y = self.fc2(self.fc1_act(self.fc1(y)))\n",
    "        return y"
   ]
  },
  {
   "cell_type": "code",
   "execution_count": 25,
   "metadata": {},
   "outputs": [],
   "source": [
    "model = ConvNetwork(n_inside=50)\n",
    "model.to(device)\n",
    "\n",
    "loss_func = nn.CrossEntropyLoss()\n",
    "optimizer = torch.optim.Adam(model.parameters(), lr=1e-4)"
   ]
  },
  {
   "cell_type": "code",
   "execution_count": 26,
   "metadata": {},
   "outputs": [
    {
     "name": "stdout",
     "output_type": "stream",
     "text": [
      "Iteration 0, train accuracy 0.13, loss 2.2760\n",
      "Iteration 200, train accuracy 0.92, loss 0.6910\n",
      "Iteration 400, train accuracy 0.95, loss 0.3954\n",
      "Test accuracy - 0.9510999999999998\n",
      "Saving model because its better\n",
      "Iteration 600, train accuracy 0.96, loss 0.2044\n",
      "Iteration 800, train accuracy 0.97, loss 0.1335\n",
      "Iteration 1000, train accuracy 0.96, loss 0.1378\n",
      "Test accuracy - 0.9679000000000001\n",
      "Saving model because its better\n",
      "Iteration 1200, train accuracy 0.98, loss 0.0953\n",
      "Iteration 1400, train accuracy 0.98, loss 0.0814\n",
      "Iteration 1600, train accuracy 0.98, loss 0.1281\n",
      "Test accuracy - 0.9745999999999998\n",
      "Saving model because its better\n",
      "Iteration 1800, train accuracy 0.96, loss 0.1497\n",
      "Iteration 2000, train accuracy 1.00, loss 0.0483\n",
      "Iteration 2200, train accuracy 0.98, loss 0.1629\n",
      "Test accuracy - 0.9783000000000002\n",
      "Saving model because its better\n",
      "Iteration 2400, train accuracy 0.99, loss 0.0733\n",
      "Iteration 2600, train accuracy 0.98, loss 0.0541\n",
      "Iteration 2800, train accuracy 0.97, loss 0.0570\n",
      "Test accuracy - 0.9804999999999999\n",
      "Saving model because its better\n",
      "Iteration 3000, train accuracy 1.00, loss 0.0316\n",
      "Iteration 3200, train accuracy 0.98, loss 0.0385\n",
      "Iteration 3400, train accuracy 0.95, loss 0.1016\n",
      "Test accuracy - 0.9826\n",
      "Saving model because its better\n",
      "Iteration 3600, train accuracy 0.99, loss 0.0367\n",
      "Iteration 3800, train accuracy 0.97, loss 0.1029\n",
      "Iteration 4000, train accuracy 0.99, loss 0.0407\n",
      "Test accuracy - 0.9834999999999999\n",
      "Saving model because its better\n"
     ]
    }
   ],
   "source": [
    "maxacc = 0\n",
    "for epoch in range(7):\n",
    "    model.train()\n",
    "    for itr, data in enumerate(train_loader):\n",
    "\n",
    "        imgs = data[0].to(device) # [100,1,28,28] -> [B,H,W]\n",
    "        labels = data[1].to(device)\n",
    "\n",
    "        y_pred = model(imgs) # [100,10]\n",
    "        loss = loss_func(y_pred,labels)\n",
    "        \n",
    "        if itr%200 == 0:\n",
    "            print('Iteration {}, train accuracy {:.2f}, loss {:.4f}'.format(itr+epoch*len(train_loader),\n",
    "                                                                            accuracy(y_pred,labels),loss))\n",
    "        \n",
    "        optimizer.zero_grad()\n",
    "        loss.backward()   \n",
    "        optimizer.step()\n",
    "\n",
    "    model.eval()\n",
    "    \n",
    "    accuracies = []\n",
    "    for itr,data in enumerate(test_loader):\n",
    "        imgs = data[0].to(device)\n",
    "        labels = data[1].to(device)\n",
    "        y_pred = model(imgs)\n",
    "        accuracies.append(accuracy(y_pred,labels))\n",
    "    print(f'Test accuracy - {np.mean(np.array(accuracies))}')\n",
    "\n",
    "    if np.mean(np.array(accuracies)) > maxacc:\n",
    "        print('Saving model because its better')\n",
    "        maxacc = np.mean(np.array(accuracies)) \n",
    "        torch.save(model,f'mymodel_conv.pth')"
   ]
  },
  {
   "cell_type": "code",
   "execution_count": 27,
   "metadata": {},
   "outputs": [
    {
     "name": "stdout",
     "output_type": "stream",
     "text": [
      "Test accuracy - 0.983\n"
     ]
    }
   ],
   "source": [
    "model = ConvNetwork(n_inside=50)\n",
    "wghts = torch.load('mymodel_conv.pth')\n",
    "model.load_state_dict(wghts.state_dict())\n",
    "\n",
    "#Переводит модель в режим инференса\n",
    "model.eval()\n",
    "device = 'cpu'\n",
    "with torch.no_grad():\n",
    "    accuracy_list = []\n",
    "    for itr,data in enumerate(test_loader):\n",
    "        imgs = data[0].to(device)\n",
    "        labels = data[1].to(device)\n",
    "        y_pred = model.forward(imgs)\n",
    "        accuracy_list.append(accuracy(y_pred,labels))\n",
    "\n",
    "print('Test accuracy - {:.3f}'.format(np.sum(accuracy_list)/len(accuracy_list)))"
   ]
  },
  {
   "cell_type": "code",
   "execution_count": 15,
   "metadata": {},
   "outputs": [
    {
     "data": {
      "image/png": "[encoded data removed]",
      "text/plain": [
       "<Figure size 640x480 with 1 Axes>"
      ]
     },
     "metadata": {},
     "output_type": "display_data"
    },
    {
     "data": {
      "image/png": "[encoded data removed]",
      "text/plain": [
       "<Figure size 640x480 with 1 Axes>"
      ]
     },
     "metadata": {},
     "output_type": "display_data"
    },
    {
     "data": {
      "image/png": "[encoded data removed]",
      "text/plain": [
       "<Figure size 640x480 with 1 Axes>"
      ]
     },
     "metadata": {},
     "output_type": "display_data"
    }
   ],
   "source": [
    "model.eval()\n",
    "with torch.no_grad():\n",
    "    for itr,data in enumerate(test_loader):\n",
    "        if itr == 0:\n",
    "            imgs = data[0].to(device)   #b,c,w,h\n",
    "            labels = data[1].to(device)\n",
    "            y_pred = model(imgs)\n",
    "            y_pred = torch.argmax(y_pred, dim=1)\n",
    "            for i in range(3):\n",
    "                im = np.transpose((imgs[i].numpy()), (1, 2, 0))\n",
    "                plt.figure()\n",
    "                plt.imshow(im)  #w,h,c\n",
    "                plt.title(y_pred[i].numpy())\n",
    "                plt.show()"
   ]
  }
 ],
 "metadata": {
  "kernelspec": {
   "display_name": "MLOps",
   "language": "python",
   "name": "python3"
  },
  "language_info": {
   "codemirror_mode": {
    "name": "ipython",
    "version": 3
   },
   "file_extension": ".py",
   "mimetype": "text/x-python",
   "name": "python",
   "nbconvert_exporter": "python",
   "pygments_lexer": "ipython3",
   "version": "3.9.7"
  },
  "orig_nbformat": 4
 },
 "nbformat": 4,
 "nbformat_minor": 2
}
