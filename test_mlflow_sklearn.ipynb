{
 "cells": [
  {
   "attachments": {},
   "cell_type": "markdown",
   "metadata": {},
   "source": [
    "## MLFLOW для экспериментов с Sklearn"
   ]
  },
  {
   "cell_type": "code",
   "execution_count": null,
   "metadata": {},
   "outputs": [],
   "source": [
    "import mlflow\n",
    "import pandas as pd\n",
    "from sklearn.model_selection import train_test_split\n",
    "from sklearn.tree import DecisionTreeClassifier\n",
    "from sklearn.metrics import accuracy_score, confusion_matrix\n",
    "\n",
    "# Загрузка данных Титаника из csv-файла\n",
    "data = pd.read_csv('titanic.csv')\n",
    "data = data [['Survived','Pclass','Age','Fare']]\n",
    "data = data.dropna(subset=['Age'])"
   ]
  },
  {
   "cell_type": "code",
   "execution_count": 113,
   "metadata": {},
   "outputs": [
    {
     "name": "stdout",
     "output_type": "stream",
     "text": [
      "<class 'pandas.core.frame.DataFrame'>\n",
      "RangeIndex: 891 entries, 0 to 890\n",
      "Data columns (total 4 columns):\n",
      " #   Column    Non-Null Count  Dtype  \n",
      "---  ------    --------------  -----  \n",
      " 0   Survived  891 non-null    int64  \n",
      " 1   Pclass    891 non-null    int64  \n",
      " 2   Age       714 non-null    float64\n",
      " 3   Fare      891 non-null    float64\n",
      "dtypes: float64(2), int64(2)\n",
      "memory usage: 28.0 KB\n"
     ]
    }
   ],
   "source": [
    "data.info()"
   ]
  },
  {
   "cell_type": "code",
   "execution_count": 115,
   "metadata": {},
   "outputs": [
    {
     "data": {
      "text/plain": [
       "<Experiment: artifact_location='file:///D:/ML_flow_server/data_local/484844835612135704', creation_time=1681682180137, experiment_id='484844835612135704', last_update_time=1681682180137, lifecycle_stage='active', name='test_Koldim2001', tags={}>"
      ]
     },
     "execution_count": 115,
     "metadata": {},
     "output_type": "execute_result"
    }
   ],
   "source": [
    "# Разделение данных на обучающую и тестовую выборки\n",
    "train, test = train_test_split(data, test_size=0.2)\n",
    "\n",
    "\n",
    "# Инициализация MLflow\n",
    "mlflow.set_tracking_uri(\"file:///D:/ML_flow_server/data_local\")\n",
    "mlflow.set_experiment(\"TreeClassifier_test\")"
   ]
  },
  {
   "cell_type": "code",
   "execution_count": 116,
   "metadata": {},
   "outputs": [],
   "source": [
    "import matplotlib.pyplot as plt\n",
    "import numpy as np\n",
    "import itertools\n",
    "\n",
    "def plot_confusion_matrix(cm, classes,\n",
    "                          normalize=False,\n",
    "                          title='Confusion matrix',\n",
    "                          cmap=plt.cm.Blues):\n",
    "    \"\"\"\n",
    "    Функция для построения матрицы ошибок.\n",
    "    cm - матрица ошибок\n",
    "    classes - список классов\n",
    "    normalize - если True, то значения матрицы ошибок нормализуются к 1\n",
    "    title - заголовок графика\n",
    "    cmap - цветовая схема для отображения графика\n",
    "    \"\"\"\n",
    "\n",
    "    if normalize:\n",
    "        cm = cm.astype('float') / cm.sum(axis=1)[:, np.newaxis]\n",
    "        print(\"Normalized confusion matrix\")\n",
    "    else:\n",
    "        print('Confusion matrix, without normalization')\n",
    "\n",
    "    plt.imshow(cm, interpolation='nearest', cmap=cmap)\n",
    "    plt.title(title)\n",
    "    plt.colorbar()\n",
    "    tick_marks = np.arange(len(classes))\n",
    "    plt.xticks(tick_marks, classes, rotation=45)\n",
    "    plt.yticks(tick_marks, classes)\n",
    "\n",
    "    fmt = '.2f' if normalize else 'd'\n",
    "    thresh = cm.max() / 2.\n",
    "    for i, j in itertools.product(range(cm.shape[0]), range(cm.shape[1])):\n",
    "        plt.text(j, i, format(cm[i, j], fmt),\n",
    "                 horizontalalignment=\"center\",\n",
    "                 color=\"white\" if cm[i, j] > thresh else \"black\")\n",
    "\n",
    "    plt.tight_layout()\n",
    "    plt.ylabel('True label')\n",
    "    plt.xlabel('Predicted label')"
   ]
  },
  {
   "cell_type": "code",
   "execution_count": 122,
   "metadata": {},
   "outputs": [
    {
     "name": "stdout",
     "output_type": "stream",
     "text": [
      "Confusion matrix, without normalization\n",
      "ok\n"
     ]
    },
    {
     "data": {
      "image/png": "[encoded data removed]",
      "text/plain": [
       "<Figure size 640x480 with 2 Axes>"
      ]
     },
     "metadata": {},
     "output_type": "display_data"
    }
   ],
   "source": [
    "# Запуск контекста MLflow и сохранение гиперпараметров\n",
    "try:\n",
    "    with mlflow.start_run(run_name='DecisionTreeClassifier'):\n",
    "        # Определение гиперпараметров модели\n",
    "        max_depth = 5\n",
    "        min_samples_split = 25\n",
    "\n",
    "\n",
    "        mlflow.log_param(\"max_depth\", max_depth)\n",
    "        mlflow.log_param(\"min_samples_split\", min_samples_split)\n",
    "\n",
    "        # Создание и обучение модели решающего дерева\n",
    "        model = DecisionTreeClassifier(max_depth=max_depth, min_samples_split=min_samples_split)\n",
    "        model.fit(train.drop('Survived', axis=1), train['Survived'])\n",
    "\n",
    "        # Вычисление метрик и сохранение их в MLflow\n",
    "        preds = model.predict(test.drop('Survived', axis=1))\n",
    "        acc = accuracy_score(test['Survived'], preds)\n",
    "        cm = confusion_matrix(test['Survived'], preds)\n",
    "\n",
    "        mlflow.log_metric(\"accuracy\", acc)\n",
    "        mlflow.log_metric(\"tn\", cm[0][0])\n",
    "        mlflow.log_metric(\"fp\", cm[0][1])\n",
    "        mlflow.log_metric(\"fn\", cm[1][0])\n",
    "        mlflow.log_metric(\"tp\", cm[1][1])\n",
    "\n",
    "        # Визуализация матрицы ошибок и сохранение ее в MLflow\n",
    "        plot_confusion_matrix(cm, classes=['Not Survived', 'Survived'])\n",
    "        cm_fig = plt.gcf()\n",
    "        cm_fig.savefig('matrix.png')\n",
    "\n",
    "        mlflow.log_artifact(\"matrix.png\")\n",
    "\n",
    "        # Сохранение модели в MLflow\n",
    "        mlflow.sklearn.log_model(model, \"model\")\n",
    "        \n",
    "finally:\n",
    "    mlflow.end_run()\n",
    "    print('ok')"
   ]
  }
 ],
 "metadata": {
  "kernelspec": {
   "display_name": "MLOps",
   "language": "python",
   "name": "python3"
  },
  "language_info": {
   "codemirror_mode": {
    "name": "ipython",
    "version": 3
   },
   "file_extension": ".py",
   "mimetype": "text/x-python",
   "name": "python",
   "nbconvert_exporter": "python",
   "pygments_lexer": "ipython3",
   "version": "3.9.16"
  },
  "orig_nbformat": 4
 },
 "nbformat": 4,
 "nbformat_minor": 2
}
